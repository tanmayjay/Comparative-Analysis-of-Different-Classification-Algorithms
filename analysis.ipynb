{
 "cells": [
  {
   "cell_type": "code",
   "execution_count": 141,
   "metadata": {},
   "outputs": [],
   "source": [
    "import pandas as pd\n",
    "import numpy as np\n",
    "import matplotlib.pyplot as plt\n",
    "import seaborn as sns; sns.set()\n",
    "from sklearn import preprocessing"
   ]
  },
  {
   "cell_type": "code",
   "execution_count": 142,
   "metadata": {},
   "outputs": [],
   "source": [
    "data = pd.read_csv('MagicTelescope.csv')"
   ]
  },
  {
   "cell_type": "code",
   "execution_count": 143,
   "metadata": {},
   "outputs": [
    {
     "data": {
      "text/html": [
       "<div>\n",
       "<style scoped>\n",
       "    .dataframe tbody tr th:only-of-type {\n",
       "        vertical-align: middle;\n",
       "    }\n",
       "\n",
       "    .dataframe tbody tr th {\n",
       "        vertical-align: top;\n",
       "    }\n",
       "\n",
       "    .dataframe thead th {\n",
       "        text-align: right;\n",
       "    }\n",
       "</style>\n",
       "<table border=\"1\" class=\"dataframe\">\n",
       "  <thead>\n",
       "    <tr style=\"text-align: right;\">\n",
       "      <th></th>\n",
       "      <th>ID</th>\n",
       "      <th>fLength:</th>\n",
       "      <th>fWidth:</th>\n",
       "      <th>fSize:</th>\n",
       "      <th>fConc:</th>\n",
       "      <th>fConc1:</th>\n",
       "      <th>fAsym:</th>\n",
       "      <th>fM3Long:</th>\n",
       "      <th>fM3Trans:</th>\n",
       "      <th>fAlpha:</th>\n",
       "      <th>fDist:</th>\n",
       "      <th>class:</th>\n",
       "    </tr>\n",
       "  </thead>\n",
       "  <tbody>\n",
       "    <tr>\n",
       "      <th>0</th>\n",
       "      <td>1</td>\n",
       "      <td>28.7967</td>\n",
       "      <td>16.0021</td>\n",
       "      <td>2.6449</td>\n",
       "      <td>0.3918</td>\n",
       "      <td>0.1982</td>\n",
       "      <td>27.7004</td>\n",
       "      <td>22.0110</td>\n",
       "      <td>-8.2027</td>\n",
       "      <td>40.0920</td>\n",
       "      <td>81.8828</td>\n",
       "      <td>g</td>\n",
       "    </tr>\n",
       "    <tr>\n",
       "      <th>1</th>\n",
       "      <td>2</td>\n",
       "      <td>31.6036</td>\n",
       "      <td>11.7235</td>\n",
       "      <td>2.5185</td>\n",
       "      <td>0.5303</td>\n",
       "      <td>0.3773</td>\n",
       "      <td>26.2722</td>\n",
       "      <td>23.8238</td>\n",
       "      <td>-9.9574</td>\n",
       "      <td>6.3609</td>\n",
       "      <td>205.2610</td>\n",
       "      <td>g</td>\n",
       "    </tr>\n",
       "    <tr>\n",
       "      <th>2</th>\n",
       "      <td>3</td>\n",
       "      <td>162.0520</td>\n",
       "      <td>136.0310</td>\n",
       "      <td>4.0612</td>\n",
       "      <td>0.0374</td>\n",
       "      <td>0.0187</td>\n",
       "      <td>116.7410</td>\n",
       "      <td>-64.8580</td>\n",
       "      <td>-45.2160</td>\n",
       "      <td>76.9600</td>\n",
       "      <td>256.7880</td>\n",
       "      <td>g</td>\n",
       "    </tr>\n",
       "    <tr>\n",
       "      <th>3</th>\n",
       "      <td>4</td>\n",
       "      <td>23.8172</td>\n",
       "      <td>9.5728</td>\n",
       "      <td>2.3385</td>\n",
       "      <td>0.6147</td>\n",
       "      <td>0.3922</td>\n",
       "      <td>27.2107</td>\n",
       "      <td>-6.4633</td>\n",
       "      <td>-7.1513</td>\n",
       "      <td>10.4490</td>\n",
       "      <td>116.7370</td>\n",
       "      <td>g</td>\n",
       "    </tr>\n",
       "    <tr>\n",
       "      <th>4</th>\n",
       "      <td>5</td>\n",
       "      <td>75.1362</td>\n",
       "      <td>30.9205</td>\n",
       "      <td>3.1611</td>\n",
       "      <td>0.3168</td>\n",
       "      <td>0.1832</td>\n",
       "      <td>-5.5277</td>\n",
       "      <td>28.5525</td>\n",
       "      <td>21.8393</td>\n",
       "      <td>4.6480</td>\n",
       "      <td>356.4620</td>\n",
       "      <td>g</td>\n",
       "    </tr>\n",
       "  </tbody>\n",
       "</table>\n",
       "</div>"
      ],
      "text/plain": [
       "   ID  fLength:   fWidth:  fSize:  fConc:  fConc1:    fAsym:  fM3Long:  \\\n",
       "0   1   28.7967   16.0021  2.6449  0.3918   0.1982   27.7004   22.0110   \n",
       "1   2   31.6036   11.7235  2.5185  0.5303   0.3773   26.2722   23.8238   \n",
       "2   3  162.0520  136.0310  4.0612  0.0374   0.0187  116.7410  -64.8580   \n",
       "3   4   23.8172    9.5728  2.3385  0.6147   0.3922   27.2107   -6.4633   \n",
       "4   5   75.1362   30.9205  3.1611  0.3168   0.1832   -5.5277   28.5525   \n",
       "\n",
       "   fM3Trans:  fAlpha:    fDist: class:  \n",
       "0    -8.2027  40.0920   81.8828      g  \n",
       "1    -9.9574   6.3609  205.2610      g  \n",
       "2   -45.2160  76.9600  256.7880      g  \n",
       "3    -7.1513  10.4490  116.7370      g  \n",
       "4    21.8393   4.6480  356.4620      g  "
      ]
     },
     "execution_count": 143,
     "metadata": {},
     "output_type": "execute_result"
    }
   ],
   "source": [
    "data.head(5)"
   ]
  },
  {
   "cell_type": "code",
   "execution_count": 144,
   "metadata": {},
   "outputs": [],
   "source": [
    "en = preprocessing.LabelEncoder()\n",
    "en.fit(['h','g'])\n",
    "data.loc[:,'class:'] = en.transform(data['class:'])"
   ]
  },
  {
   "cell_type": "code",
   "execution_count": 145,
   "metadata": {},
   "outputs": [
    {
     "data": {
      "text/html": [
       "<div>\n",
       "<style scoped>\n",
       "    .dataframe tbody tr th:only-of-type {\n",
       "        vertical-align: middle;\n",
       "    }\n",
       "\n",
       "    .dataframe tbody tr th {\n",
       "        vertical-align: top;\n",
       "    }\n",
       "\n",
       "    .dataframe thead th {\n",
       "        text-align: right;\n",
       "    }\n",
       "</style>\n",
       "<table border=\"1\" class=\"dataframe\">\n",
       "  <thead>\n",
       "    <tr style=\"text-align: right;\">\n",
       "      <th></th>\n",
       "      <th>ID</th>\n",
       "      <th>fLength:</th>\n",
       "      <th>fWidth:</th>\n",
       "      <th>fSize:</th>\n",
       "      <th>fConc:</th>\n",
       "      <th>fConc1:</th>\n",
       "      <th>fAsym:</th>\n",
       "      <th>fM3Long:</th>\n",
       "      <th>fM3Trans:</th>\n",
       "      <th>fAlpha:</th>\n",
       "      <th>fDist:</th>\n",
       "      <th>class:</th>\n",
       "    </tr>\n",
       "  </thead>\n",
       "  <tbody>\n",
       "    <tr>\n",
       "      <th>0</th>\n",
       "      <td>1</td>\n",
       "      <td>28.7967</td>\n",
       "      <td>16.0021</td>\n",
       "      <td>2.6449</td>\n",
       "      <td>0.3918</td>\n",
       "      <td>0.1982</td>\n",
       "      <td>27.7004</td>\n",
       "      <td>22.0110</td>\n",
       "      <td>-8.2027</td>\n",
       "      <td>40.0920</td>\n",
       "      <td>81.8828</td>\n",
       "      <td>0</td>\n",
       "    </tr>\n",
       "    <tr>\n",
       "      <th>1</th>\n",
       "      <td>2</td>\n",
       "      <td>31.6036</td>\n",
       "      <td>11.7235</td>\n",
       "      <td>2.5185</td>\n",
       "      <td>0.5303</td>\n",
       "      <td>0.3773</td>\n",
       "      <td>26.2722</td>\n",
       "      <td>23.8238</td>\n",
       "      <td>-9.9574</td>\n",
       "      <td>6.3609</td>\n",
       "      <td>205.2610</td>\n",
       "      <td>0</td>\n",
       "    </tr>\n",
       "    <tr>\n",
       "      <th>2</th>\n",
       "      <td>3</td>\n",
       "      <td>162.0520</td>\n",
       "      <td>136.0310</td>\n",
       "      <td>4.0612</td>\n",
       "      <td>0.0374</td>\n",
       "      <td>0.0187</td>\n",
       "      <td>116.7410</td>\n",
       "      <td>-64.8580</td>\n",
       "      <td>-45.2160</td>\n",
       "      <td>76.9600</td>\n",
       "      <td>256.7880</td>\n",
       "      <td>0</td>\n",
       "    </tr>\n",
       "    <tr>\n",
       "      <th>3</th>\n",
       "      <td>4</td>\n",
       "      <td>23.8172</td>\n",
       "      <td>9.5728</td>\n",
       "      <td>2.3385</td>\n",
       "      <td>0.6147</td>\n",
       "      <td>0.3922</td>\n",
       "      <td>27.2107</td>\n",
       "      <td>-6.4633</td>\n",
       "      <td>-7.1513</td>\n",
       "      <td>10.4490</td>\n",
       "      <td>116.7370</td>\n",
       "      <td>0</td>\n",
       "    </tr>\n",
       "    <tr>\n",
       "      <th>4</th>\n",
       "      <td>5</td>\n",
       "      <td>75.1362</td>\n",
       "      <td>30.9205</td>\n",
       "      <td>3.1611</td>\n",
       "      <td>0.3168</td>\n",
       "      <td>0.1832</td>\n",
       "      <td>-5.5277</td>\n",
       "      <td>28.5525</td>\n",
       "      <td>21.8393</td>\n",
       "      <td>4.6480</td>\n",
       "      <td>356.4620</td>\n",
       "      <td>0</td>\n",
       "    </tr>\n",
       "  </tbody>\n",
       "</table>\n",
       "</div>"
      ],
      "text/plain": [
       "   ID  fLength:   fWidth:  fSize:  fConc:  fConc1:    fAsym:  fM3Long:  \\\n",
       "0   1   28.7967   16.0021  2.6449  0.3918   0.1982   27.7004   22.0110   \n",
       "1   2   31.6036   11.7235  2.5185  0.5303   0.3773   26.2722   23.8238   \n",
       "2   3  162.0520  136.0310  4.0612  0.0374   0.0187  116.7410  -64.8580   \n",
       "3   4   23.8172    9.5728  2.3385  0.6147   0.3922   27.2107   -6.4633   \n",
       "4   5   75.1362   30.9205  3.1611  0.3168   0.1832   -5.5277   28.5525   \n",
       "\n",
       "   fM3Trans:  fAlpha:    fDist:  class:  \n",
       "0    -8.2027  40.0920   81.8828       0  \n",
       "1    -9.9574   6.3609  205.2610       0  \n",
       "2   -45.2160  76.9600  256.7880       0  \n",
       "3    -7.1513  10.4490  116.7370       0  \n",
       "4    21.8393   4.6480  356.4620       0  "
      ]
     },
     "execution_count": 145,
     "metadata": {},
     "output_type": "execute_result"
    }
   ],
   "source": [
    "data.head()"
   ]
  },
  {
   "cell_type": "code",
   "execution_count": 146,
   "metadata": {},
   "outputs": [],
   "source": [
    "#cleanup_nums = {\"class:\":     {\"g\": 1, \"h\": 0}}\n",
    "#data.replace(cleanup_nums, inplace=True)"
   ]
  },
  {
   "cell_type": "code",
   "execution_count": 147,
   "metadata": {},
   "outputs": [],
   "source": [
    "#from warnings import simplefilter\n",
    "#simplefilter(action='ignore', category=FutureWarning)\n",
    "#simplefilter(action='ignore', category=Warning)"
   ]
  },
  {
   "cell_type": "code",
   "execution_count": 148,
   "metadata": {},
   "outputs": [],
   "source": [
    "from sklearn.model_selection import train_test_split\n",
    "from sklearn.model_selection import cross_validate"
   ]
  },
  {
   "cell_type": "code",
   "execution_count": 149,
   "metadata": {},
   "outputs": [],
   "source": [
    "from sklearn.metrics import accuracy_score\n",
    "from sklearn.metrics import confusion_matrix\n",
    "from sklearn.metrics import classification_report\n",
    "import sklearn.metrics as metrics"
   ]
  },
  {
   "cell_type": "code",
   "execution_count": 150,
   "metadata": {},
   "outputs": [],
   "source": [
    "tdata = data\n",
    "scaler = preprocessing.RobustScaler()\n",
    "tdata[['fLength:','fWidth:','fSize:','fConc:','fConc1:','fAsym:','fM3Long:','fM3Trans:','fAlpha:','fDist:']] = scaler.fit_transform(data[['fLength:','fWidth:','fSize:','fConc:','fConc1:','fAsym:','fM3Long:','fM3Trans:','fAlpha:','fDist:']])"
   ]
  },
  {
   "cell_type": "code",
   "execution_count": 151,
   "metadata": {},
   "outputs": [],
   "source": [
    "dlist = list(tdata)\n",
    "train = dlist[1:10]\n",
    "predict = dlist[-1]\n",
    "X = tdata[train]\n",
    "Y = tdata[[predict]]"
   ]
  },
  {
   "cell_type": "code",
   "execution_count": 152,
   "metadata": {},
   "outputs": [],
   "source": [
    "x_train, x_test, y_train, y_test = train_test_split(X,Y,test_size=0.3)"
   ]
  },
  {
   "cell_type": "code",
   "execution_count": 153,
   "metadata": {},
   "outputs": [],
   "source": [
    "from sklearn.tree import DecisionTreeClassifier\n",
    "DT = DecisionTreeClassifier(max_depth=10)\n",
    "DT.fit(x_train,y_train)\n",
    "DT_predicted = DT.predict(x_test)\n",
    "DTC = DT.score(x_test,y_test)"
   ]
  },
  {
   "cell_type": "code",
   "execution_count": 154,
   "metadata": {},
   "outputs": [
    {
     "name": "stdout",
     "output_type": "stream",
     "text": [
      "Classification Report of Decision Tree Induction:\n",
      "\n",
      "\n",
      "Accuracy of DT:  84.086926042762 %\n",
      "\n",
      "              precision    recall  f1-score   support\n",
      "\n",
      "           0       0.84      0.93      0.88      3709\n",
      "           1       0.83      0.68      0.75      1997\n",
      "\n",
      "   micro avg       0.84      0.84      0.84      5706\n",
      "   macro avg       0.84      0.80      0.82      5706\n",
      "weighted avg       0.84      0.84      0.84      5706\n",
      "\n"
     ]
    }
   ],
   "source": [
    "print('Classification Report of Decision Tree Induction:\\n')\n",
    "print(\"\\nAccuracy of DT: \",DTC*100,\"%\\n\")\n",
    "print(classification_report(y_test, DT_predicted))"
   ]
  },
  {
   "cell_type": "code",
   "execution_count": 155,
   "metadata": {},
   "outputs": [],
   "source": [
    "dt_cf = confusion_matrix(y_test,DT_predicted)"
   ]
  },
  {
   "cell_type": "code",
   "execution_count": 156,
   "metadata": {},
   "outputs": [
    {
     "data": {
      "image/png": "[encoded data removed]",
      "text/plain": [
       "<Figure size 432x288 with 2 Axes>"
      ]
     },
     "metadata": {},
     "output_type": "display_data"
    }
   ],
   "source": [
    "sns.heatmap(dt_cf.T, square=True, annot=True, fmt='d', cbar=True)\n",
    "plt.xlabel('true label')\n",
    "plt.ylabel('predicted label')\n",
    "plt.title('Confusion Matrix of DTC');"
   ]
  },
  {
   "cell_type": "code",
   "execution_count": 157,
   "metadata": {},
   "outputs": [],
   "source": [
    "dt_fpr, dt_tpr, dt_threshold = metrics.roc_curve(y_test, DT_predicted)\n",
    "dt_roc = metrics.auc(dt_fpr, dt_tpr)"
   ]
  },
  {
   "cell_type": "code",
   "execution_count": 158,
   "metadata": {},
   "outputs": [
    {
     "data": {
      "image/png": "[encoded data removed]",
      "text/plain": [
       "<Figure size 432x288 with 1 Axes>"
      ]
     },
     "metadata": {},
     "output_type": "display_data"
    }
   ],
   "source": [
    "plt.title('ROC graph for Decision Tree')\n",
    "plt.plot(dt_fpr, dt_tpr, label='AUC = %0.2f' %dt_roc)\n",
    "plt.legend(loc = 'lower right')\n",
    "plt.plot([0,1], [0,1], 'r--')\n",
    "plt.xlim([0,1])\n",
    "plt.ylim([0,1])\n",
    "plt.ylabel('TPR')\n",
    "plt.xlabel('FPR')\n",
    "plt.show()"
   ]
  },
  {
   "cell_type": "code",
   "execution_count": 159,
   "metadata": {},
   "outputs": [],
   "source": [
    "from sklearn.ensemble import RandomForestClassifier\n",
    "RF = RandomForestClassifier(n_estimators=100, n_jobs=-1, oob_score=True,bootstrap = True, max_features = 'sqrt')\n",
    "RF.fit(x_train,y_train.values.ravel())\n",
    "RF_predicted = RF.predict(x_test)\n",
    "RFS = RF.score(x_test,y_test.values.ravel())"
   ]
  },
  {
   "cell_type": "code",
   "execution_count": 160,
   "metadata": {},
   "outputs": [
    {
     "name": "stdout",
     "output_type": "stream",
     "text": [
      "Classification Report of RFC:\n",
      "\n",
      "\n",
      "Accuracy of RFC:  87.45180511742025 %\n",
      "\n",
      "              precision    recall  f1-score   support\n",
      "\n",
      "           0       0.88      0.94      0.91      3709\n",
      "           1       0.87      0.75      0.81      1997\n",
      "\n",
      "   micro avg       0.87      0.87      0.87      5706\n",
      "   macro avg       0.87      0.85      0.86      5706\n",
      "weighted avg       0.87      0.87      0.87      5706\n",
      "\n"
     ]
    }
   ],
   "source": [
    "print('Classification Report of RFC:\\n')\n",
    "print(\"\\nAccuracy of RFC: \",RFS*100,\"%\\n\")\n",
    "print(classification_report(y_test, RF_predicted))"
   ]
  },
  {
   "cell_type": "code",
   "execution_count": 161,
   "metadata": {},
   "outputs": [],
   "source": [
    "rf_cf = confusion_matrix(y_test, RF_predicted)"
   ]
  },
  {
   "cell_type": "code",
   "execution_count": 162,
   "metadata": {},
   "outputs": [
    {
     "data": {
      "image/png": "[encoded data removed]",
      "text/plain": [
       "<Figure size 432x288 with 1 Axes>"
      ]
     },
     "metadata": {},
     "output_type": "display_data"
    }
   ],
   "source": [
    "sns.heatmap(rf_cf.T, square=True, annot=True, fmt='d', cbar=False)\n",
    "plt.xlabel('true label')\n",
    "plt.ylabel('predicted label')\n",
    "#plt.xticks(tick_marks, classNames, rotation=45)\n",
    "#plt.yticks(tick_marks, classNames)\n",
    "plt.title('Confusion Matrix of RFC');"
   ]
  },
  {
   "cell_type": "code",
   "execution_count": 163,
   "metadata": {},
   "outputs": [],
   "source": [
    "rf_fpr, rf_tpr, rf_threshold = metrics.roc_curve(y_test, RF_predicted)\n",
    "rf_roc = metrics.auc(rf_fpr, rf_tpr)"
   ]
  },
  {
   "cell_type": "code",
   "execution_count": 164,
   "metadata": {},
   "outputs": [
    {
     "data": {
      "image/png": "[encoded data removed]",
      "text/plain": [
       "<Figure size 432x288 with 1 Axes>"
      ]
     },
     "metadata": {},
     "output_type": "display_data"
    }
   ],
   "source": [
    "plt.title('ROC graph for Random Forest')\n",
    "plt.plot(rf_fpr, rf_tpr, label='AUC = %0.2f' %rf_roc)\n",
    "plt.legend(loc = 'lower right')\n",
    "plt.plot([0,1], [0,1], 'r--')\n",
    "plt.xlim([0,1])\n",
    "plt.ylim([0,1])\n",
    "plt.ylabel('TPR')\n",
    "plt.xlabel('FPR')\n",
    "plt.show()"
   ]
  },
  {
   "cell_type": "code",
   "execution_count": 165,
   "metadata": {},
   "outputs": [],
   "source": [
    "data_scaled = data"
   ]
  },
  {
   "cell_type": "code",
   "execution_count": 166,
   "metadata": {},
   "outputs": [],
   "source": [
    "scaler = preprocessing.StandardScaler()\n",
    "data_scaled[['fLength:','fWidth:','fSize:','fConc:','fConc1:','fAsym:','fM3Long:','fM3Trans:','fAlpha:','fDist:']] = scaler.fit_transform(data_scaled[['fLength:','fWidth:','fSize:','fConc:','fConc1:','fAsym:','fM3Long:','fM3Trans:','fAlpha:','fDist:']])"
   ]
  },
  {
   "cell_type": "code",
   "execution_count": 167,
   "metadata": {},
   "outputs": [],
   "source": [
    "dslist = list(data_scaled)\n",
    "strain = dslist[1:10]\n",
    "spredict = dslist[-1]\n",
    "Xs = data_scaled[strain]\n",
    "Ys = data_scaled[[spredict]]\n",
    "xs_train, xs_test, ys_train, ys_test = train_test_split(Xs,Ys,test_size=0.3)"
   ]
  },
  {
   "cell_type": "code",
   "execution_count": 168,
   "metadata": {},
   "outputs": [],
   "source": [
    "from sklearn.svm import LinearSVC\n",
    "SV = LinearSVC(max_iter = 10000)\n",
    "SV.fit(x_train,y_train.values.ravel())\n",
    "SV_predicted = SV.predict(x_test)\n",
    "SVS = SV.score(x_test,y_test.values.ravel())"
   ]
  },
  {
   "cell_type": "code",
   "execution_count": 169,
   "metadata": {},
   "outputs": [
    {
     "name": "stdout",
     "output_type": "stream",
     "text": [
      "Classification Report of SVM:\n",
      "\n",
      "\n",
      "Accuracy of SVC:  78.14581142656853 %\n",
      "\n",
      "              precision    recall  f1-score   support\n",
      "\n",
      "           0       0.79      0.90      0.84      3709\n",
      "           1       0.75      0.57      0.64      1997\n",
      "\n",
      "   micro avg       0.78      0.78      0.78      5706\n",
      "   macro avg       0.77      0.73      0.74      5706\n",
      "weighted avg       0.78      0.78      0.77      5706\n",
      "\n"
     ]
    }
   ],
   "source": [
    "print('Classification Report of SVM:\\n')\n",
    "print(\"\\nAccuracy of SVC: \",SVS*100,\"%\\n\")\n",
    "print(classification_report(y_test, SV_predicted))"
   ]
  },
  {
   "cell_type": "code",
   "execution_count": 170,
   "metadata": {},
   "outputs": [],
   "source": [
    "sv_cf = confusion_matrix(y_test,SV_predicted)"
   ]
  },
  {
   "cell_type": "code",
   "execution_count": 171,
   "metadata": {},
   "outputs": [
    {
     "name": "stdout",
     "output_type": "stream",
     "text": [
      "[[3327  382]\n",
      " [ 865 1132]]\n"
     ]
    }
   ],
   "source": [
    "print(sv_cf)"
   ]
  },
  {
   "cell_type": "code",
   "execution_count": 172,
   "metadata": {},
   "outputs": [
    {
     "data": {
      "image/png": "[encoded data removed]",
      "text/plain": [
       "<Figure size 432x288 with 2 Axes>"
      ]
     },
     "metadata": {},
     "output_type": "display_data"
    }
   ],
   "source": [
    "sns.heatmap(sv_cf.T, square=True, annot=True, fmt='d', cbar=True)\n",
    "plt.xlabel('true label')\n",
    "plt.ylabel('predicted label')\n",
    "plt.title('Confusion Matrix of SVM');"
   ]
  },
  {
   "cell_type": "code",
   "execution_count": 173,
   "metadata": {},
   "outputs": [],
   "source": [
    "sv_fpr, sv_tpr, sv_threshold = metrics.roc_curve(y_test, SV_predicted)\n",
    "sv_roc = metrics.auc(sv_fpr, sv_tpr)"
   ]
  },
  {
   "cell_type": "code",
   "execution_count": 174,
   "metadata": {},
   "outputs": [
    {
     "data": {
      "image/png": "[encoded data removed]",
      "text/plain": [
       "<Figure size 432x288 with 1 Axes>"
      ]
     },
     "metadata": {},
     "output_type": "display_data"
    }
   ],
   "source": [
    "plt.title('ROC graph for SVM')\n",
    "plt.plot(sv_fpr, sv_tpr, label='AUC = %0.2f' %sv_roc)\n",
    "plt.legend(loc = 'lower right')\n",
    "plt.plot([0,1], [0,1], 'r--')\n",
    "plt.xlim([0,1])\n",
    "plt.ylim([0,1])\n",
    "plt.ylabel('TPR')\n",
    "plt.xlabel('FPR')\n",
    "plt.show()"
   ]
  },
  {
   "cell_type": "code",
   "execution_count": 175,
   "metadata": {},
   "outputs": [],
   "source": [
    "data_norm = data"
   ]
  },
  {
   "cell_type": "code",
   "execution_count": 176,
   "metadata": {},
   "outputs": [],
   "source": [
    "normalizer = preprocessing.Normalizer()\n",
    "data_norm[['fLength:','fWidth:','fSize:','fConc:','fConc1:','fAsym:','fM3Long:','fM3Trans:','fAlpha:','fDist:']] = normalizer.fit_transform(data_norm[['fLength:','fWidth:','fSize:','fConc:','fConc1:','fAsym:','fM3Long:','fM3Trans:','fAlpha:','fDist:']])"
   ]
  },
  {
   "cell_type": "code",
   "execution_count": 177,
   "metadata": {},
   "outputs": [],
   "source": [
    "dnlist = list(data_norm)\n",
    "ntrain = dnlist[1:10]\n",
    "npredict = dlist[-1]\n",
    "Xn = data_norm[ntrain]\n",
    "Yn = data_norm[[npredict]]\n",
    "xn_train, xn_test, yn_train, yn_test = train_test_split(Xn,Yn,test_size=0.3)"
   ]
  },
  {
   "cell_type": "code",
   "execution_count": 178,
   "metadata": {},
   "outputs": [],
   "source": [
    "from sklearn.naive_bayes import GaussianNB\n",
    "NB = GaussianNB()\n",
    "NB.fit(x_train,y_train.values.ravel())\n",
    "NB_predicted = NB.predict(x_test)\n",
    "NBS = NB.score(x_test,y_test.values.ravel())"
   ]
  },
  {
   "cell_type": "code",
   "execution_count": 179,
   "metadata": {},
   "outputs": [
    {
     "name": "stdout",
     "output_type": "stream",
     "text": [
      "Classification Report of Naive Bayes:\n",
      "\n",
      "\n",
      "Accuracy of Naive Bayes:  72.81808622502629 %\n",
      "\n",
      "              precision    recall  f1-score   support\n",
      "\n",
      "           0       0.73      0.92      0.82      3709\n",
      "           1       0.72      0.37      0.49      1997\n",
      "\n",
      "   micro avg       0.73      0.73      0.73      5706\n",
      "   macro avg       0.72      0.65      0.65      5706\n",
      "weighted avg       0.73      0.73      0.70      5706\n",
      "\n"
     ]
    }
   ],
   "source": [
    "print('Classification Report of Naive Bayes:\\n')\n",
    "print(\"\\nAccuracy of Naive Bayes: \",NBS*100,\"%\\n\")\n",
    "print(classification_report(y_test, NB_predicted))"
   ]
  },
  {
   "cell_type": "code",
   "execution_count": 180,
   "metadata": {},
   "outputs": [],
   "source": [
    "nb_cf = confusion_matrix(y_test,NB_predicted)"
   ]
  },
  {
   "cell_type": "code",
   "execution_count": 181,
   "metadata": {},
   "outputs": [
    {
     "data": {
      "image/png": "[encoded data removed]",
      "text/plain": [
       "<Figure size 432x288 with 1 Axes>"
      ]
     },
     "metadata": {},
     "output_type": "display_data"
    }
   ],
   "source": [
    "sns.heatmap(nb_cf.T, square=True, annot=True, fmt='d', cbar=False)\n",
    "plt.xlabel('true label')\n",
    "plt.ylabel('predicted label')\n",
    "plt.title('Confusion Matrix of Naive Bayes');"
   ]
  },
  {
   "cell_type": "code",
   "execution_count": 182,
   "metadata": {},
   "outputs": [],
   "source": [
    "nb_fpr, nb_tpr, nb_threshold = metrics.roc_curve(y_test, NB_predicted)\n",
    "nb_roc = metrics.auc(nb_fpr, nb_tpr)"
   ]
  },
  {
   "cell_type": "code",
   "execution_count": 183,
   "metadata": {},
   "outputs": [
    {
     "data": {
      "image/png": "[encoded data removed]",
      "text/plain": [
       "<Figure size 432x288 with 1 Axes>"
      ]
     },
     "metadata": {},
     "output_type": "display_data"
    }
   ],
   "source": [
    "plt.title('ROC graph for Naive Bayes')\n",
    "plt.plot(nb_fpr, nb_tpr, label='AUC = %0.2f' %nb_roc)\n",
    "plt.legend(loc = 'lower right')\n",
    "plt.plot([0,1], [0,1], 'r--')\n",
    "plt.xlim([0,1])\n",
    "plt.ylim([0,1])\n",
    "plt.ylabel('TPR')\n",
    "plt.xlabel('FPR')\n",
    "plt.show()"
   ]
  },
  {
   "cell_type": "code",
   "execution_count": 184,
   "metadata": {},
   "outputs": [],
   "source": [
    "rf_TP = rf_cf[0][0]\n",
    "rf_FP = rf_cf[0][1]\n",
    "rf_FN = rf_cf[1][0]\n",
    "rf_TN = rf_cf[1][1]"
   ]
  },
  {
   "cell_type": "code",
   "execution_count": 185,
   "metadata": {},
   "outputs": [],
   "source": [
    "rf_FP = rf_FP.astype(float)\n",
    "rf_TP = rf_TP.astype(float)\n",
    "rf_FN = rf_FN.astype(float)\n",
    "rf_TN = rf_TN.astype(float)"
   ]
  },
  {
   "cell_type": "code",
   "execution_count": 186,
   "metadata": {},
   "outputs": [],
   "source": [
    "#Sensitivity, recall, TPR\n",
    "rf_TPR = rf_TP / (rf_TP + rf_FN)\n",
    "#FPR\n",
    "rf_FPR = rf_FP / (rf_FP + rf_TN)\n",
    "#Specifity, TNR\n",
    "rf_TNR = rf_TN / (rf_TN + rf_FP)\n",
    "#Precision\n",
    "rf_PRE = rf_TP / (rf_TP + rf_FP)\n",
    "#Accuracy\n",
    "rf_ACC = (rf_TP + rf_TN) / (rf_TP + rf_FP + rf_FN + rf_TN)"
   ]
  },
  {
   "cell_type": "code",
   "execution_count": 187,
   "metadata": {},
   "outputs": [
    {
     "name": "stdout",
     "output_type": "stream",
     "text": [
      "TPR of Random Forest:  0.8755332496863237\n",
      "FPR of Random Forest:  0.12783265543288785\n"
     ]
    }
   ],
   "source": [
    "print(\"TPR of Random Forest: \" ,rf_TPR)\n",
    "print(\"FPR of Random Forest: \" ,rf_FPR)"
   ]
  },
  {
   "cell_type": "code",
   "execution_count": 188,
   "metadata": {},
   "outputs": [],
   "source": [
    "sv_TP = sv_cf[0][0]\n",
    "sv_FP = sv_cf[0][1]\n",
    "sv_FN = sv_cf[1][0]\n",
    "sv_TN = sv_cf[1][1]\n",
    "sv_FP = sv_FP.astype(float)\n",
    "sv_TP = sv_TP.astype(float)\n",
    "sv_FN = sv_FN.astype(float)\n",
    "sv_TN = sv_TN.astype(float)"
   ]
  },
  {
   "cell_type": "code",
   "execution_count": 189,
   "metadata": {},
   "outputs": [],
   "source": [
    "#Sensitivity, recall, TPR\n",
    "sv_TPR = sv_TP / (sv_TP + sv_FN)\n",
    "#FPR\n",
    "sv_FPR = sv_FP / (sv_FP + sv_TN)"
   ]
  },
  {
   "cell_type": "code",
   "execution_count": 190,
   "metadata": {},
   "outputs": [
    {
     "name": "stdout",
     "output_type": "stream",
     "text": [
      "TPR of SVM:  0.7936545801526718\n",
      "FPR of SVM:  0.2523117569352708\n"
     ]
    }
   ],
   "source": [
    "print(\"TPR of SVM: \" ,sv_TPR)\n",
    "print(\"FPR of SVM: \" ,sv_FPR)"
   ]
  },
  {
   "cell_type": "code",
   "execution_count": 191,
   "metadata": {},
   "outputs": [],
   "source": [
    "DT_TP = dt_cf[0][0]\n",
    "DT_FP = dt_cf[0][1]\n",
    "DT_FN = dt_cf[1][0]\n",
    "DT_TN = dt_cf[1][1]\n",
    "DT_FP = DT_FP.astype(float)\n",
    "DT_TP = DT_TP.astype(float)\n",
    "DT_FN = DT_FN.astype(float)\n",
    "DT_TN = DT_TN.astype(float)"
   ]
  },
  {
   "cell_type": "code",
   "execution_count": 192,
   "metadata": {},
   "outputs": [],
   "source": [
    "#Sensitivity, recall, TPR\n",
    "DT_TPR = DT_TP / (DT_TP + DT_FN)\n",
    "#FPR\n",
    "DT_FPR = DT_FP / (DT_FP + DT_TN)"
   ]
  },
  {
   "cell_type": "code",
   "execution_count": 193,
   "metadata": {},
   "outputs": [
    {
     "name": "stdout",
     "output_type": "stream",
     "text": [
      "TPR of Decision Tree:  0.843849742204763\n",
      "FPR of Decision Tree:  0.16656460502143294\n"
     ]
    }
   ],
   "source": [
    "print(\"TPR of Decision Tree: \" ,DT_TPR)\n",
    "print(\"FPR of Decision Tree: \" ,DT_FPR)"
   ]
  },
  {
   "cell_type": "code",
   "execution_count": 194,
   "metadata": {},
   "outputs": [
    {
     "name": "stdout",
     "output_type": "stream",
     "text": [
      "TPR of Naive Bayes:  0.7307527801539777\n",
      "FPR of Naive Bayes:  0.283495145631068\n"
     ]
    }
   ],
   "source": [
    "BN_TP = nb_cf[0][0]\n",
    "BN_FP = nb_cf[0][1]\n",
    "BN_FN = nb_cf[1][0]\n",
    "BN_TN = nb_cf[1][1]\n",
    "BN_FP = BN_FP.astype(float)\n",
    "BN_TP = BN_TP.astype(float)\n",
    "BN_FN = BN_FN.astype(float)\n",
    "BN_TN = BN_TN.astype(float)\n",
    "#Sensitivity, recall, TPR\n",
    "BN_TPR = BN_TP / (BN_TP + BN_FN)\n",
    "#FPR\n",
    "BN_FPR = BN_FP / (BN_FP + BN_TN)\n",
    "print(\"TPR of Naive Bayes: \" ,BN_TPR)\n",
    "print(\"FPR of Naive Bayes: \" ,BN_FPR)"
   ]
  }
 ],
 "metadata": {
  "kernelspec": {
   "display_name": "Python 3",
   "language": "python",
   "name": "python3"
  },
  "language_info": {
   "codemirror_mode": {
    "name": "ipython",
    "version": 3
   },
   "file_extension": ".py",
   "mimetype": "text/x-python",
   "name": "python",
   "nbconvert_exporter": "python",
   "pygments_lexer": "ipython3",
   "version": "3.7.1"
  }
 },
 "nbformat": 4,
 "nbformat_minor": 2
}
